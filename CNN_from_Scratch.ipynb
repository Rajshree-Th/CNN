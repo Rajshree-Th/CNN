{
  "cells": [
    {
      "cell_type": "markdown",
      "metadata": {
        "id": "view-in-github",
        "colab_type": "text"
      },
      "source": [
        "<a href=\"https://colab.research.google.com/github/Rajshree-Th/CNN/blob/main/CNN_from_Scratch.ipynb\" target=\"_parent\"><img src=\"https://colab.research.google.com/assets/colab-badge.svg\" alt=\"Open In Colab\"/></a>"
      ]
    },
    {
      "cell_type": "markdown",
      "metadata": {
        "id": "xFjAvItL9t_4"
      },
      "source": [
        "# <font color='white'>Implement CNN from scratch</font>"
      ]
    },
    {
      "cell_type": "markdown",
      "metadata": {
        "id": "BnsuBdxW9t_7"
      },
      "source": [
        "### Today in this project we'll compute the convolutional operations from scratch using Numpy\n",
        "We'll then verify the correctness of the our implementation using a \"grader\" function/cell.\n",
        "\n",
        "The grader fucntion would validate the correctness of our code. "
      ]
    },
    {
      "cell_type": "markdown",
      "metadata": {
        "id": "ayLMG7Ut9t_8"
      },
      "source": [
        "### Task 1. Calcuate the shape of the output image\n",
        "We use the formula given to calculate the shape of out output image after performing the required operations\n",
        "<img src='https://i.imgur.com/BlepuHW.jpg'>\n",
        "\n",
        "We are going to use stride, s=1 for simplicity"
      ]
    },
    {
      "cell_type": "code",
      "execution_count": 16,
      "metadata": {
        "id": "grvPa1J39t_9"
      },
      "outputs": [],
      "source": [
        "# https://stats.stackexchange.com/questions/351115/convolution-with-a-non-square-kernel\n",
        "# Assuming stride=1 for simplicity\n",
        "# Importing numpy with an alias \"np\"\n",
        "import numpy as np\n",
        "\n",
        "# Defining a function to calculate the shape of the output\n",
        "def calculate_output_shape(img_size, kernel_size, padding):\n",
        "    img_length = img_size[0]\n",
        "    img_width = img_size[1]\n",
        "    kernel_length = kernel_size[0]\n",
        "    kernel_width = kernel_size[1]\n",
        "    # Return -1,-1 if the shape of kernel is greater than img_size\n",
        "    # Using the above formula to calculate output_length and output_width\n",
        "    if kernel_length > img_length and kernel_width > img_width:\n",
        "        output_length, output_width =  -1, -1\n",
        "    else:\n",
        "        output_length = int(np.floor((img_length + 2 * padding - kernel_length) / 1) + 1)\n",
        "        output_width = int(np.floor((img_width + 2 * padding - kernel_width) / 1) + 1)\n",
        "    \n",
        "    # Returning output_length and output_width\n",
        "    return output_length, output_width"
      ]
    },
    {
      "cell_type": "code",
      "execution_count": 17,
      "metadata": {
        "colab": {
          "base_uri": "https://localhost:8080/"
        },
        "id": "lq2Tl6-A9t_-",
        "outputId": "b4ea1ffb-736d-4166-dc5f-bf35b068023e"
      },
      "outputs": [
        {
          "output_type": "execute_result",
          "data": {
            "text/plain": [
              "True"
            ]
          },
          "metadata": {},
          "execution_count": 17
        }
      ],
      "source": [
        "# Checking the implementation of the above function \"calculate_output_shape\"\n",
        "# This grader function would result \"True\" if the above function is implemented correctly.\n",
        "def grader_calculate_size(l1,w1,l2,w2,l3,w3):\n",
        "    case_1 = (l1==220 and w1==220)\n",
        "    case_2 = (l2==-1 and w2==-1)\n",
        "    case_3 = (l3==128 and w3==128)\n",
        "    assert(case_1 and case_2 and case_3)\n",
        "    return True\n",
        "\n",
        "l1,w1 = calculate_output_shape((224,224), (5,5),0)\n",
        "l2,w2 = calculate_output_shape((10,10), (12,12),1)\n",
        "l3,w3 = calculate_output_shape((128,128), (3,3),1)\n",
        "\n",
        "grader_calculate_size(l1,w1,l2,w2,l3,w3)"
      ]
    },
    {
      "cell_type": "markdown",
      "metadata": {
        "id": "B_Le5BRc9t__"
      },
      "source": [
        "### Task 2. Get the padded image\n",
        "In this task we have to add layer of zeros as padding layers in the original image"
      ]
    },
    {
      "cell_type": "code",
      "execution_count": 18,
      "metadata": {
        "id": "rjuGPicl9t__"
      },
      "outputs": [],
      "source": [
        "# Defining a function to add padding layers in the original image\n",
        "def get_padded_image(input_img, padding_width):\n",
        "    # If the padding length is less than or equal to 0 then return the original image\n",
        "    if(padding_width <= 0):\n",
        "        return input_img\n",
        "    # Else if padding_width is greater than zero\n",
        "    else:\n",
        "        # Calculating size of padded image by using the formula (n+2p) where \"n\" is the original image size, and \"p\" is the padding width\n",
        "        # Initialising an array with value zeros\n",
        "        img_with_padding = np.zeros((input_img.shape[0] + 2 * padding_width, input_img.shape[1] + 2 * padding_width))\n",
        "        \n",
        "        # Using this formula: (Padded_image_size - Input_image_size) / 2\n",
        "        # Calculating the coordinates of the region in the padded image such that the original image is placed centered in the padded image.         \n",
        "        x = int((img_with_padding.shape[0] - input_img.shape[0]) / 2)\n",
        "        y = int((img_with_padding.shape[1] - input_img.shape[1]) / 2)\n",
        "        \n",
        "        # Forming padded image\n",
        "        # Placing the original image in the padded image by assigning the pixel values of the original image to the corresponding region in the padded image.\n",
        "        img_with_padding[x:-x, y:-y] = input_img\n",
        "\n",
        "    # Returning the newly formed padded image as a numpy array\n",
        "    return img_with_padding"
      ]
    },
    {
      "cell_type": "code",
      "execution_count": 19,
      "metadata": {
        "id": "hJG_amBs9uAA",
        "colab": {
          "base_uri": "https://localhost:8080/"
        },
        "outputId": "c927b5ff-21d6-440b-edf9-f9995031996e"
      },
      "outputs": [
        {
          "output_type": "execute_result",
          "data": {
            "text/plain": [
              "True"
            ]
          },
          "metadata": {},
          "execution_count": 19
        }
      ],
      "source": [
        "# Checking the implementation of the above function \"get_padded_image\"\n",
        "# This grader function would result \"True\" if the above function is implemented correctly.\n",
        "def grader_padding(img1,img2):\n",
        "    a1 = ((img1.shape)==(8,8))\n",
        "    a2 = ((img2.shape)==(4,4))\n",
        "    assert(a1 and a2)\n",
        "    b1 = (img1.sum(axis=1)==[ 0.,  0., 10., 26., 42., 58.,  0.,  0.])\n",
        "    b2 = (img1.sum(axis=0)==[ 0, 0, 28, 32, 36, 40,  0,  0])\n",
        "    assert(b1.all() and b2.all())\n",
        "    return True\n",
        "\n",
        "img = np.array([[1,2,3,4], \n",
        "                [5,6,7,8], \n",
        "                [9,10,11,12], \n",
        "                [13,14,15,16]])\n",
        "\n",
        "img1 = get_padded_image(img, 2)\n",
        "img2 = get_padded_image(img, 0)\n",
        "\n",
        "grader_padding(img1, img2)"
      ]
    },
    {
      "cell_type": "markdown",
      "metadata": {
        "id": "nl1KpXY09uAA"
      },
      "source": [
        "### Task 3. Performing convolution\n",
        "In this task, we are going to add layer of zeros as padding layers in the original image"
      ]
    },
    {
      "cell_type": "code",
      "execution_count": 20,
      "metadata": {
        "id": "lwQ6-XUH9uAB"
      },
      "outputs": [],
      "source": [
        "'''\n",
        "Here we'll define a function called \"convolve\" that takes an image matrix (img), a kernel matrix (kernel), and an integer (pad) as input, \n",
        "and returns the convolved image matrix as output. The convolved image matrix (output) will be obtained by convolving the input image with the given kernel \n",
        "matrix using a sliding window approach.\n",
        "'''\n",
        "# Defining convolve function \n",
        "def convolve(img, kernel, pad):\n",
        "    # Calcualting the size of required image by using the function \"calculate_output_shape\" defined earlier\n",
        "    tgt_size_length, tgt_size_width = calculate_output_shape((img.shape[0], img.shape[1]), \n",
        "                                                             (kernel.shape[0], kernel.shape[1]), pad)\n",
        "    # Initializing the convolved image matrix as a matrix of all zeros with the requiered size\n",
        "    convolved_img = np.zeros(shape=(tgt_size_length, tgt_size_width))\n",
        "    # Padding the input image matrix by using the \"get_padded_image\" function with the \n",
        "    # given padding value to create a new image matrix with additional rows and columns of zeros.\n",
        "    new_img = get_padded_image(img, pad)\n",
        "    \n",
        "    # \"for\" loops to iterate over each pixel of the convolved image matrix\n",
        "    for i in range(0, convolved_img.shape[0]):\n",
        "        for j in range(0, convolved_img.shape[1]):\n",
        "            # Extracting a submatrix (pix_img) that is equal size of the kernal matrix\n",
        "            pix_img = new_img[i:i+kernel.shape[0], j:j+kernel.shape[1]]\n",
        "            \n",
        "            # Initializing a variable \"pix\" with zero\n",
        "            pix = 0\n",
        "            # Calculating the pixel values of convolved image\n",
        "            for a in range(0, pix_img.shape[0]):\n",
        "                for b in range(0, pix_img.shape[1]):\n",
        "                    # Summing the element-wise multiplication of the kernel matrix and the corresponding submatrix of the padded image matrix\n",
        "                    pix += kernel[a][b] * pix_img[a][b]\n",
        "            # Storing the pixel value in the corresponding pixel location of the convolved image matrix\n",
        "            convolved_img[i][j] = pix \n",
        "    \n",
        "    # Finally returning the convolved image matrix\n",
        "    return convolved_img"
      ]
    },
    {
      "cell_type": "code",
      "execution_count": 21,
      "metadata": {
        "id": "FgZuodnB9uAB",
        "colab": {
          "base_uri": "https://localhost:8080/"
        },
        "outputId": "44976641-b7be-481d-ab79-7b667b1d9e47"
      },
      "outputs": [
        {
          "output_type": "execute_result",
          "data": {
            "text/plain": [
              "True"
            ]
          },
          "metadata": {},
          "execution_count": 21
        }
      ],
      "source": [
        "# Checking the implementation of the above function \"convolve\"\n",
        "# This grader function would result \"True\" if the above function is implemented correctly.\n",
        "def grader_convolve(conv_img):\n",
        "    a1 = (conv_img.shape==(5,5))\n",
        "    a2 = (conv_img.sum(axis=1)==([10, 26, 42, 58,  0]))\n",
        "    a3 = (conv_img.sum(axis=0)==([ 0,28, 32, 36, 40]))\n",
        "    assert(a1 and a2.all() and a3.all())\n",
        "    return True\n",
        "\n",
        "img = np.array([[1,2,3,4],\n",
        "                [5,6,7,8], \n",
        "                [9,10,11,12],\n",
        "                [13,14,15,16]])\n",
        "kernel = np.array([[1,-1], [0,1]])\n",
        "\n",
        "conv_img = convolve(img, kernel, 1)\n",
        "grader_convolve(conv_img)"
      ]
    },
    {
      "cell_type": "markdown",
      "metadata": {
        "id": "pG5cxFLl9uAC"
      },
      "source": [
        "### Task 4: Perform Maxpooling with strides\n"
      ]
    },
    {
      "cell_type": "code",
      "source": [
        "'''\n",
        "This function will calculate the size of the output feature map that will be produced after applying max pooling to the original image.\n",
        "'''\n",
        "def output_shape(img_size, pool_size, stride):\n",
        "    \n",
        "    # Assigning the length and width of the input image to the variables img_length and img_width\n",
        "    img_length = img_size[0]\n",
        "    img_width = img_size[1]\n",
        "    \n",
        "    # Calculating the length and width of the output feature map using the formula: \n",
        "    # output_size = ((input_size - pool_size) / stride) + 1\n",
        "    # And rounding down the output size to the nearest integer using \"np.floor\" function\n",
        "    output_length = int(np.floor((img_length-pool_size) / stride) + 1)\n",
        "    output_width = int(np.floor((img_width-pool_size) / stride) + 1)\n",
        "\n",
        "    # Returning the output length and width as a tuple (output_length, output_width) \n",
        "    return output_length, output_width"
      ],
      "metadata": {
        "id": "VXYD3Jdz3rTp"
      },
      "execution_count": 22,
      "outputs": []
    },
    {
      "cell_type": "code",
      "execution_count": 23,
      "metadata": {
        "id": "7BHCv-iv9uAC"
      },
      "outputs": [],
      "source": [
        "'''\n",
        "This function will generate a matrix containing the maximum values of each pool in the given input image\n",
        "'''\n",
        "def get_maxpools(img, pool_size, stride):\n",
        "    # Calling the \"output_shape\" function to calculate the dimensions of the max-pooled matrix\n",
        "    tgt_size_length, tgt_size_width = output_shape((img.shape[0], img.shape[1]), pool_size, stride)\n",
        "    # Initializing a matrix (pooling_mat) of zeros with the calculated dimensions\n",
        "    pooling_mat = np.zeros(shape=(tgt_size_length, tgt_size_width))\n",
        "    # Initialising an array (arr)\n",
        "    arr=[]\n",
        "\n",
        "    # Initializing nested \"for\" loops to iterate over the input image with a stride parameter \n",
        "    # which allows us to skip over pixels and process only the important pixels\n",
        "    for i in range(0, img.shape[0]-1, stride):\n",
        "        for j in range(0, img.shape[1]-1, stride):\n",
        "            # Extracting a submatrix (pix_img) that is equal size of the pool size\n",
        "            pix_img = img[i:i+pool_size, j:j+pool_size]\n",
        "            # Finding max value in the submatrix by using \"np.max\"\n",
        "            max = int(np.max(pix_img))\n",
        "            # Storing the max values in an array arr temporarily\n",
        "            arr = np.append(arr, max)\n",
        "   \n",
        "    # Reshaping the array arr into into the dimensions of the max-pooled matrix        \n",
        "    pooling_mat = arr.reshape(tgt_size_length, tgt_size_width)\n",
        "    \n",
        "    # Returning the matrix (pooling_mat) which now contains maximum values of each pool in the input \n",
        "    return pooling_mat"
      ]
    },
    {
      "cell_type": "code",
      "execution_count": 24,
      "metadata": {
        "id": "akAR-65c9uAC",
        "colab": {
          "base_uri": "https://localhost:8080/"
        },
        "outputId": "1b81b27e-f707-42e9-e8dc-2c5ea1ac3dc2"
      },
      "outputs": [
        {
          "output_type": "execute_result",
          "data": {
            "text/plain": [
              "True"
            ]
          },
          "metadata": {},
          "execution_count": 24
        }
      ],
      "source": [
        "# Checking the implementation of the above functions \"output_shape\" and \"get_maxpools\"\n",
        "# This grader function would result \"True\" if the above functions are implemented correctly.\n",
        "def pooling_final(pooled_output):\n",
        "    a1 = (pooled_output.sum(axis=0) == [30, 33, 36])\n",
        "    a2 = (pooled_output.sum(axis=1) == [21, 33, 45])\n",
        "    assert(a1.all() and a2.all())\n",
        "    return True\n",
        "img = np.array([[1,2,3,4],\n",
        "                [5,6,7,8],\n",
        "                [9,10,11,12],\n",
        "                [13,14,15,16]])\n",
        "pool_size = 2\n",
        "stride = 1\n",
        "pooled_output = (get_maxpools(img, pool_size, stride))\n",
        "pooling_final(pooled_output)"
      ]
    }
  ],
  "metadata": {
    "kernelspec": {
      "display_name": "Python 3",
      "language": "python",
      "name": "python3"
    },
    "language_info": {
      "codemirror_mode": {
        "name": "ipython",
        "version": 3
      },
      "file_extension": ".py",
      "mimetype": "text/x-python",
      "name": "python",
      "nbconvert_exporter": "python",
      "pygments_lexer": "ipython3",
      "version": "3.6.3"
    },
    "colab": {
      "provenance": [],
      "include_colab_link": true
    }
  },
  "nbformat": 4,
  "nbformat_minor": 0
}