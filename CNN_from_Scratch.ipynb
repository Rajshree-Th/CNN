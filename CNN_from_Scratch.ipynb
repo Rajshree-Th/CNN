{
  "cells": [
    {
      "cell_type": "markdown",
      "metadata": {
        "id": "view-in-github",
        "colab_type": "text"
      },
      "source": [
        "<a href=\"https://colab.research.google.com/github/Rajshree-Th/CNN/blob/main/CNN_from_Scratch.ipynb\" target=\"_parent\"><img src=\"https://colab.research.google.com/assets/colab-badge.svg\" alt=\"Open In Colab\"/></a>"
      ]
    },
    {
      "cell_type": "markdown",
      "metadata": {
        "id": "xFjAvItL9t_4"
      },
      "source": [
        "# <font color='red'>Implement CNN from scratch</font>"
      ]
    },
    {
      "cell_type": "markdown",
      "metadata": {
        "id": "BnsuBdxW9t_7"
      },
      "source": [
        "### Here we'll compute the convolutional operations from scratch using Numpy\n",
        "We'll then verify the correctness of the your implementation using a \"grader\" function/cell.\n",
        "\n",
        "The grader fucntion would validate the correctness of your code. "
      ]
    },
    {
      "cell_type": "markdown",
      "metadata": {
        "id": "ayLMG7Ut9t_8"
      },
      "source": [
        "### Task 1. Calcuate the shape of the output image\n",
        "We use the below formula to calculate the shape of output image after performing the required operations\n",
        "<img src='https://i.imgur.com/BlepuHW.jpg'>"
      ]
    },
    {
      "cell_type": "code",
      "execution_count": null,
      "metadata": {
        "id": "grvPa1J39t_9"
      },
      "outputs": [],
      "source": [
        "# https://stats.stackexchange.com/questions/351115/convolution-with-a-non-square-kernel\n",
        "# for simplicity, assuming stride=1\n",
        "import numpy as np\n",
        "def calculate_output_shape(img_size, kernel_size,padding):\n",
        "    img_length=img_size[0]\n",
        "    img_width=img_size[1]\n",
        "    kernel_length=kernel_size[0]\n",
        "    kernel_width=kernel_size[1]\n",
        "    # return -1,-1 if the shape of kernel is greater than img_size\n",
        "    # use the above formula to calculate output_length and output_width\n",
        "    if kernel_length>img_length and kernel_width>img_width:\n",
        "        output_length,output_width=-1,-1\n",
        "    else:\n",
        "        output_length=int(np.floor((img_length+2*padding-kernel_length)/1)+1)\n",
        "        output_width=int(np.floor((img_width+2*padding-kernel_width)/1)+1)\n",
        "    \n",
        "    return output_length,output_width"
      ]
    },
    {
      "cell_type": "code",
      "execution_count": null,
      "metadata": {
        "colab": {
          "base_uri": "https://localhost:8080/"
        },
        "id": "lq2Tl6-A9t_-",
        "outputId": "8cae9016-52da-4917-dbe2-d6c42b918d00"
      },
      "outputs": [
        {
          "output_type": "execute_result",
          "data": {
            "text/plain": [
              "True"
            ]
          },
          "metadata": {},
          "execution_count": 17
        }
      ],
      "source": [
        "def grader_calculate_size(l1,w1,l2,w2,l3,w3):\n",
        "    case_1=(l1==220 and w1==220)\n",
        "    case_2=(l2==-1 and w2==-1)\n",
        "    case_3=(l3==128 and w3==128)\n",
        "    assert(case_1 and case_2 and case_3)\n",
        "    return True\n",
        "l1,w1=calculate_output_shape((224,224), (5,5),0)\n",
        "l2,w2=calculate_output_shape((10,10), (12,12),1)\n",
        "l3,w3=calculate_output_shape((128,128), (3,3),1)\n",
        "grader_calculate_size(l1,w1,l2,w2,l3,w3)"
      ]
    },
    {
      "cell_type": "markdown",
      "metadata": {
        "id": "B_Le5BRc9t__"
      },
      "source": [
        "### Task 2 . Get the padded image\n",
        "In this task we have to add layer of zeros as padding layers in the original image"
      ]
    },
    {
      "cell_type": "code",
      "execution_count": null,
      "metadata": {
        "id": "rjuGPicl9t__"
      },
      "outputs": [],
      "source": [
        "def get_padded_image(input_img, padding_width):\n",
        "    # if the padding length is less than or equal to 0 then return the original image\n",
        "    if(padding_width<=0):\n",
        "        return img\n",
        "    # Else if padding_width is greater than zero\n",
        "    else:\n",
        "        # using the formula (n+2p)\n",
        "        # Calculating size of padded image\n",
        "        # Initialising an array with value zeros\n",
        "        img_with_padding = np.zeros((input_img.shape[0]+2*padding_width,input_img.shape[1]+2*padding_width))\n",
        "        # (Padded_image_size - Input_image_size) /2\n",
        "        x = int((img_with_padding.shape[0]-input_img.shape[0])/2)\n",
        "        y = int((img_with_padding.shape[1]-input_img.shape[1])/2)\n",
        "        # Forming padded image\n",
        "        img_with_padding[x:-x,y:-y] = input_img\n",
        "      \n",
        "    return img_with_padding"
      ]
    },
    {
      "cell_type": "code",
      "execution_count": null,
      "metadata": {
        "id": "hJG_amBs9uAA",
        "colab": {
          "base_uri": "https://localhost:8080/"
        },
        "outputId": "e2c0dc0b-67d7-4100-c1d6-56691e16785f"
      },
      "outputs": [
        {
          "output_type": "execute_result",
          "data": {
            "text/plain": [
              "True"
            ]
          },
          "metadata": {},
          "execution_count": 19
        }
      ],
      "source": [
        "def grader_padding(img1,img2):\n",
        "    a1=((img1.shape)==(8,8))\n",
        "    a2=((img2.shape)==(4,4))\n",
        "    assert(a1 and a2)\n",
        "    b1=(img1.sum(axis=1)==[ 0.,  0., 10., 26., 42., 58.,  0.,  0.])\n",
        "    b2=(img1.sum(axis=0)==[ 0, 0, 28, 32, 36, 40,  0,  0])\n",
        "    assert(b1.all() and b2.all())\n",
        "    return True\n",
        "\n",
        "img=np.array([[1,2,3,4],[5,6,7,8],[9,10,11,12],[13,14,15,16]])\n",
        "img1=get_padded_image(img, 2)\n",
        "img2=get_padded_image(img, 0)\n",
        "grader_padding(img1,img2)"
      ]
    },
    {
      "cell_type": "markdown",
      "metadata": {
        "id": "nl1KpXY09uAA"
      },
      "source": [
        "### Task 3 . Performing convolution\n",
        "In this task we have to add layer of zeros as padding layers in the original image"
      ]
    },
    {
      "cell_type": "code",
      "execution_count": null,
      "metadata": {
        "id": "lwQ6-XUH9uAB"
      },
      "outputs": [],
      "source": [
        "def convolve(img, kernel,pad):\n",
        "    # calcualte the size of required image\n",
        "    tgt_size_length,tgt_size_width = calculate_output_shape((img.shape[0],img.shape[1]),(kernel.shape[0],kernel.shape[1]),pad)\n",
        "    \n",
        "    # initialize the matrix of all zeros\n",
        "    convolved_img = np.zeros(shape=(tgt_size_length, tgt_size_width))\n",
        "    new_img = get_padded_image(img, pad)\n",
        "    # write the code for convolution\n",
        "    \n",
        "    # For loops to find pixel of image of the kernel size\n",
        "    for i in range(0,convolved_img.shape[0]):\n",
        "        for j in range(0,convolved_img.shape[1]):\n",
        "            pix_img = new_img[i:i+kernel.shape[0],j:j+kernel.shape[1]]\n",
        "            # Initialize a variable\n",
        "            pix = 0\n",
        "            for a in range(0,pix_img.shape[0]):\n",
        "                for b in range(0,pix_img.shape[1]):\n",
        "                    # Multiplication and addittion of of kernel and pixel to find convolved matrix \n",
        "                    pix += kernel[a][b]*pix_img[a][b]\n",
        "            convolved_img[i][j] = pix \n",
        "    \n",
        "    return convolved_img"
      ]
    },
    {
      "cell_type": "code",
      "execution_count": null,
      "metadata": {
        "id": "FgZuodnB9uAB",
        "colab": {
          "base_uri": "https://localhost:8080/"
        },
        "outputId": "b9d6f0af-a6dc-47c7-ef79-1d450c427228"
      },
      "outputs": [
        {
          "output_type": "execute_result",
          "data": {
            "text/plain": [
              "True"
            ]
          },
          "metadata": {},
          "execution_count": 21
        }
      ],
      "source": [
        "def grader_convolve(conv_img):\n",
        "    a1=(conv_img.shape==(5,5))\n",
        "    a2=(conv_img.sum(axis=1)==([10, 26, 42, 58,  0]))\n",
        "    a3=(conv_img.sum(axis=0)==([ 0,28, 32, 36, 40]))\n",
        "    assert(a1 and a2.all() and a3.all())\n",
        "    return True\n",
        "img=np.array([[1,2,3,4],[5,6,7,8],[9,10,11,12],[13,14,15,16]])\n",
        "kernel=np.array([[1,-1],[0,1]])\n",
        "conv_img=convolve(img, kernel,1)\n",
        "grader_convolve(conv_img)"
      ]
    },
    {
      "cell_type": "markdown",
      "metadata": {
        "id": "pG5cxFLl9uAC"
      },
      "source": [
        "### Task 4: Perform Maxpooling with strides\n"
      ]
    },
    {
      "cell_type": "code",
      "source": [
        "def output_shape(img_size,pool_size,stride):\n",
        "    \n",
        "    img_length=img_size[0]\n",
        "    img_width=img_size[1]\n",
        "    # Calculating lenght and width with the formula ((n-p)/s)+1\n",
        "    output_length=int(np.floor((img_length-pool_size)/stride)+1)\n",
        "    output_width=int(np.floor((img_width-pool_size)/stride)+1)\n",
        "    \n",
        "    return output_length,output_width"
      ],
      "metadata": {
        "id": "VXYD3Jdz3rTp"
      },
      "execution_count": null,
      "outputs": []
    },
    {
      "cell_type": "code",
      "execution_count": null,
      "metadata": {
        "id": "7BHCv-iv9uAC"
      },
      "outputs": [],
      "source": [
        " def get_maxpools(img, pool_size, stride):\n",
        "    # Write your code to get the pooled matrix\n",
        "    tgt_size_length,tgt_size_width = output_shape((img.shape[0],img.shape[1]),pool_size,stride)\n",
        "    # Initialize the matrix of all zeros\n",
        "    pooling_mat = np.zeros(shape=(tgt_size_length, tgt_size_width))\n",
        "    # Initialise an array\n",
        "    arr=[]\n",
        "    # For loops to find pixel of image of pool size abd finding the max value in each pixel\n",
        "    for i in range(0,img.shape[0]-1,stride):\n",
        "        for j in range(0,img.shape[1]-1,stride):\n",
        "            pix_img=img[i:i+pool_size,j:j+pool_size]\n",
        "            # Finding max value in each pixel\n",
        "            max = int(np.max(pix_img))\n",
        "            # Appending all the max values in an array\n",
        "            arr=np.append(arr,max)\n",
        "    # An array of max values is reshaped into expected pooled matrix size        \n",
        "    pooling_mat=arr.reshape(tgt_size_length, tgt_size_width)\n",
        "    return pooling_mat"
      ]
    },
    {
      "cell_type": "code",
      "execution_count": null,
      "metadata": {
        "id": "akAR-65c9uAC",
        "colab": {
          "base_uri": "https://localhost:8080/"
        },
        "outputId": "37a67101-e3d6-4efd-c730-7efabdbbe5d5"
      },
      "outputs": [
        {
          "output_type": "execute_result",
          "data": {
            "text/plain": [
              "True"
            ]
          },
          "metadata": {},
          "execution_count": 24
        }
      ],
      "source": [
        "def pooling_final(pooled_output):\n",
        "    a1=(pooled_output.sum(axis=0)==[30, 33, 36])\n",
        "    a2=(pooled_output.sum(axis=1)==[21, 33, 45])\n",
        "    assert(a1.all() and a2.all())\n",
        "    return True\n",
        "img=np.array([[1,2,3,4],[5,6,7,8],[9,10,11,12],[13,14,15,16]])\n",
        "pool_size=2\n",
        "stride=1\n",
        "pooled_output=(get_maxpools(img, pool_size, stride))\n",
        "pooling_final(pooled_output)"
      ]
    },
    {
      "cell_type": "code",
      "execution_count": null,
      "metadata": {
        "id": "IDevVnRV9uAD"
      },
      "outputs": [],
      "source": [
        ""
      ]
    }
  ],
  "metadata": {
    "kernelspec": {
      "display_name": "Python 3",
      "language": "python",
      "name": "python3"
    },
    "language_info": {
      "codemirror_mode": {
        "name": "ipython",
        "version": 3
      },
      "file_extension": ".py",
      "mimetype": "text/x-python",
      "name": "python",
      "nbconvert_exporter": "python",
      "pygments_lexer": "ipython3",
      "version": "3.6.3"
    },
    "colab": {
      "name": "CNN_from_Scratch.ipynb",
      "provenance": [],
      "collapsed_sections": [],
      "include_colab_link": true
    }
  },
  "nbformat": 4,
  "nbformat_minor": 0
}